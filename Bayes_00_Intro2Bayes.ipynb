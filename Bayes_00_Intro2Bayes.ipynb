{
 "cells": [
  {
   "cell_type": "markdown",
   "id": "ffe0265f",
   "metadata": {
    "slideshow": {
     "slide_type": "slide"
    }
   },
   "source": [
    "# Most Basic Bayesian Interview Question\n",
    "\n",
    "---\n",
    "\n",
    "Are you familiar with Bayesian inference?\n",
    "\n",
    "> Yes!\n",
    "\n",
    "Well then you must know **the law of total probability**! What's that?\n",
    "\n",
    "> What proportion of students will pass this class $\\Pr(pass)$ if you know $\\Pr(pass|quick)$ as well as the distribution of $quick$?\n",
    "\n",
    "Now what proportion of students who will pass the class answer this question quickly?\n",
    "\n",
    "> The structure of this question is **_the most basic Bayesian interview question_**, but it requires some assumptions..."
   ]
  },
  {
   "cell_type": "markdown",
   "id": "ce983413",
   "metadata": {
    "slideshow": {
     "slide_type": "slide"
    }
   },
   "source": [
    "# Bayesian Terminology \n",
    "---\n",
    "\n",
    "## Bayes Theorem\n",
    "\n",
    "\\begin{align*}\n",
    "\\overset{posterior}{p(\\theta|x)} &={} \\frac{\\overset{likelihood}{p(x|\\theta)}\\times \\overset{prior}{p(\\theta)}}{\\overset{\\text{evidence}}{p(x)}}\\\\\n",
    "&={} \\frac{{p(x, \\theta)}}{\\underset{\\text{marginal likelihood}}{\\displaystyle \\int p(x|\\theta)p(\\theta) d\\theta}} \\textrm{ or }\n",
    "\\frac{{p(x, \\theta)}}{\\underset{\\text{law of total probability}}{\\displaystyle \\sum_{k} p(x|\\theta_k)p(\\theta_k)}} =\n",
    "\\frac{\\overset{joint}{p(x, \\theta)}}{\\underset{\\text{normalizing constant}}{c}}\n",
    "\\end{align*}\n",
    "\n",
    "### _The posterior is always proportional to the joint_\n",
    "\n",
    "$$\\large p(\\theta|x) = (1/c)\\times p(\\theta,x) \\propto{} p(\\theta,x)$$\n",
    "\n",
    "**_and the posterior is always a proper distribution if the prior is_**"
   ]
  },
  {
   "cell_type": "markdown",
   "id": "4d0f29e6",
   "metadata": {
    "slideshow": {
     "slide_type": "slide"
    }
   },
   "source": [
    "# Example\n",
    "---\n",
    "\\begin{align*}\n",
    "\\text{Likelihood} && p(x|\\theta,n) &={} C^n_k\\theta^{x}(1-\\theta)^{n-x}\\\\\n",
    "&&& \\quad\\; [\\text{exponential family distribution if $n$ is known}]\\\\\n",
    "&&& \\quad\\; [\\text{What is this distribution? What is $C^n_k$?}]\\\\\\\\\n",
    "\\text{Prior} && p(\\theta|\\alpha,\\beta) &={} \\frac{\\Gamma(\\alpha+\\beta)}{\\Gamma(\\alpha)\\Gamma(\\beta)}\\theta^{\\alpha-1}(1-\\theta)^{\\beta-1} \\\\ \n",
    "&&& \\quad\\; [\\text{$\\alpha$ and $\\beta$ are called }\\textbf{hyperparameters}]\\\\\n",
    "&&& \\quad\\; [\\text{What is this distribution? What is $\\Gamma(\\cdot)$?}]\\\\\\\\\n",
    "\\text{Posterior} && p(\\theta|x,n,\\alpha,\\beta) &={} \\overset{\\text{Bayes Theorem}}{\\frac{p(x|\\theta)p(\\theta)}{p(x)}} = \\frac{C^n_k\\theta^{x}(1-\\theta)^{n-x}  \\frac{\\Gamma(\\alpha+\\beta)}{\\Gamma(\\alpha)\\Gamma(\\beta)}\\theta^{\\alpha-1}(1-\\theta)^{\\beta-1} }{p(x)} \\\\\n",
    "&&& = \\;\\texttt{What distribution parameterized how?}\n",
    "\\end{align*}\n"
   ]
  },
  {
   "cell_type": "markdown",
   "id": "265500e5",
   "metadata": {
    "slideshow": {
     "slide_type": "slide"
    }
   },
   "source": [
    "# Homework\n",
    "\n",
    "## HW Instructions\n",
    "1. Weekly HW is due one week after the lecture it appears in unless explicitly indicated otherwise.\n",
    "2. Links to UofT Jupyterhub (or alternatively google colab) where you will code in python are available on quercus.\n",
    "2. Your HW will be submitted on quercus as a link to your .ipynb file hosted on github.com (not jupyterhub or colab which TAs cannot access).\n",
    "    1. Make a github account and create a github repo where you will put your homework (probably just once).\n",
    "    2. Download your .ipynb file (from jupyterhub or colab) and upload it into your github repo.\n",
    "    3. Submit a github link on the quercus assignment which the TAs can click to see your (publicly available) .ipynb notebook file in your github repo.\n",
    "        1. TAs can only mark what they can see so ensure that your figures can actually be seen when your .ipynb is viewed on github. E.g., `matplotlib` figures will render but `plotly` figures will not unless `fig.show(\"png\")` is used.\n",
    "    4. Marking rubrics will be attached to each assignment on quercus. \n",
    "\n",
    "> The first homework retreads the material of the first lecture, and then asks you to figure out many things on your own in an unstructured manner... jupyterhub, notebooks, python random variables, python plotting, and now github. Having spent much time away from academia in the real world I've seen that the main activity that work requires of you is to figure out new things on your own, so I want my classes to emulate and practice this process. What I've found while being at UofT is that simply providing a lot of content as lecture material and assuming students will immediately review lecture material to a sufficient level of understanding is not effective for many students (despite this being exactly what works for being successful in classes). \n",
    "> \n",
    "> So I've made this process homework now, rather than lecture content which I generally introduce in broad conceptual terms in lecture. Ideally this will facilitate more engagement with the course topics in the manner that I intend. And I'll use lectures to systematically work through the operations associated with Bayesian statistics to help students build their baseline capacity to  \"figure out many things on your own\" within the particular context of our course.\n",
    ">\n",
    "> This piazza post @9  [\"Is there a suggested textbook for this course?\"](https://piazza.com/class/m5jvyco84083fm/post/9) requests a complementary textbook to support the course. The textbook I reference there will be my first choice whenever it addresses our topics. My additional recommendation is that after each class you immediately organize and transcribe your class notes to augment and complete my lecture notebooks.\n",
    "> \n",
    "> In my experience the most useful resources to support efficient learning are\n",
    ">\n",
    "> 1. Still textbooks (through the UofT library)\n",
    "> 2. ChatGPT as a faster web search interface\n",
    "> 3. Google if you know what you're looking for\n",
    ">\n",
    "> and if you take good notes in class and augment my lecture notebooks with them in an organized manner you'll have my intended STA365 \"textbook\".\n",
    "\n",
    "---\n",
    "\n",
    "\n",
    "### Q1 \n",
    "\n",
    "What proportion of students who answer this question quickly will pass the class?\n",
    "Assume the probability of passing the class is 0.9.\n",
    "Assume the probability of answering this question quickly is 0.6 if you'll pass the class,\n",
    "while the probability drops to 0.3 if you'll not pass the class. \n",
    "\n",
    "### Q2\n",
    "\n",
    "\\begin{align*}\n",
    "\\text{Likelihood} && p(x|\\theta,n) &={} \\texttt{Multinomial}\\\\\\\\\n",
    "\\text{Prior} && p(\\theta|\\boldsymbol{\\alpha}) &={} \\texttt{Dirichlet} \\\\ \n",
    "\\text{Posterior} && p(\\theta|x,n,\\boldsymbol{\\alpha}) &={} \\overset{\\text{Bayes Theorem}}{\\frac{p(x|\\theta)p(\\theta)}{p(x)}} = \\; \\texttt{What?}\\\\\n",
    "&&& \\quad\\quad\\quad\\quad\\quad\\; = \\; \\texttt{What distribution?}\\\\\n",
    "&&& \\quad\\quad\\quad\\quad\\quad\\quad\\;\\;\\, \\texttt{With what parameterization?}\\\\\n",
    "\\end{align*}\n",
    "\n",
    "### _The posterior is always proportional to the joint_\n",
    "\n",
    "$$\\large p(\\theta|x) = (1/c)\\times p(\\theta,x) \\propto{} p(\\theta,x)$$\n",
    "\n",
    "**_and the posterior is always a proper distribution if the prior is_**\n",
    "\n",
    "### Q3 \n",
    "\n",
    "Create a sample from a three category multinomial distribution and visualize the multinomial distribution and the multinomial sample; then, visualize the simplex Dirichlet distribution of the prior and the posterior using a ternary plot.\n",
    "\n"
   ]
  },
  {
   "cell_type": "code",
   "execution_count": null,
   "id": "8c5d6d21",
   "metadata": {},
   "outputs": [],
   "source": [
    "from scipy import stats"
   ]
  },
  {
   "cell_type": "code",
   "execution_count": null,
   "id": "8995f4cc",
   "metadata": {},
   "outputs": [],
   "source": [
    "bin_10_p3 = stats.binom(n=10, p=.3)"
   ]
  },
  {
   "cell_type": "code",
   "execution_count": null,
   "id": "cfe531d3",
   "metadata": {},
   "outputs": [],
   "source": [
    "plt.bar(height=[.3,.7], x=[1,0])"
   ]
  },
  {
   "cell_type": "code",
   "execution_count": null,
   "id": "13ac3de4",
   "metadata": {},
   "outputs": [],
   "source": [
    "x = bin_10_p3.rvs(size=100)"
   ]
  },
  {
   "cell_type": "code",
   "execution_count": null,
   "id": "7d5cce83",
   "metadata": {},
   "outputs": [],
   "source": [
    "import matplotlib.pyplot as plt\n",
    "\n",
    "plt.hist(x)"
   ]
  },
  {
   "cell_type": "code",
   "execution_count": null,
   "id": "c3d3c6b0",
   "metadata": {},
   "outputs": [],
   "source": [
    "# https://q.utoronto.ca/courses/380376/discussion_topics/2919455\n",
    "\n",
    "import numpy as np\n",
    "from scipy import stats\n",
    "import plotly.figure_factory as ff\n",
    "import numpy as np\n",
    "\n",
    "# p1p2p3_scatter = stats.dirichlet(alpha=np.array([1.0, 1.0, 1.0])).rvs(size=100)\n",
    "p1 = np.linspace(0,1,100)\n",
    "p2 = 1-p1.copy()\n",
    "p_ = np.linspace(0,1,100)\n",
    "p1 = (p1[np.newaxis,:]*p_[:,np.newaxis]).flatten()\n",
    "p2 = (p2[np.newaxis,:]*p_[:,np.newaxis]).flatten()\n",
    "p3 = 1-p1-p2\n",
    "p = np.c_[p1,p2,p3]\n",
    "\n",
    "alpha_prior = np.array([1.1, 1.1, 1.1])  # Prior alpha values\n",
    "dirichlet_prior = stats.dirichlet(alpha=alpha_prior)\n",
    "dirichlet_prior_densities = dirichlet_prior.pdf(p.T)\n",
    "\n",
    "# https://plotly.com/python/ternary-contour/Links to an external site. \n",
    "fig = ff.create_ternary_contour(p.T, dirichlet_prior.pdf(p.T),\n",
    "                                pole_labels=['p1', 'p2', 'p3'],\n",
    "                                interp_mode='cartesian',\n",
    "                                showscale=True)\n",
    "fig.show('png')"
   ]
  },
  {
   "cell_type": "code",
   "execution_count": null,
   "id": "9e569d8e",
   "metadata": {
    "scrolled": true
   },
   "outputs": [],
   "source": []
  },
  {
   "cell_type": "code",
   "execution_count": null,
   "id": "cccde235",
   "metadata": {},
   "outputs": [],
   "source": []
  }
 ],
 "metadata": {
  "celltoolbar": "Slideshow",
  "kernelspec": {
   "display_name": "Python 3 (ipykernel)",
   "language": "python",
   "name": "python3"
  },
  "language_info": {
   "codemirror_mode": {
    "name": "ipython",
    "version": 3
   },
   "file_extension": ".py",
   "mimetype": "text/x-python",
   "name": "python",
   "nbconvert_exporter": "python",
   "pygments_lexer": "ipython3",
   "version": "3.11.4"
  }
 },
 "nbformat": 4,
 "nbformat_minor": 5
}
